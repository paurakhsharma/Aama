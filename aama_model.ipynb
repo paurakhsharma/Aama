{
 "cells": [
  {
   "cell_type": "code",
   "execution_count": 48,
   "metadata": {},
   "outputs": [],
   "source": [
    "import numpy as np\n",
    "import pandas as pd\n",
    "# import seaborn as sns\n",
    "import matplotlib.pyplot as plt\n",
    "\n",
    "%matplotlib inline"
   ]
  },
  {
   "cell_type": "code",
   "execution_count": 19,
   "metadata": {},
   "outputs": [],
   "source": [
    "dataset = pd.read_csv('./data/caesarian.csv')"
   ]
  },
  {
   "cell_type": "code",
   "execution_count": 20,
   "metadata": {},
   "outputs": [
    {
     "data": {
      "text/html": [
       "<div>\n",
       "<style scoped>\n",
       "    .dataframe tbody tr th:only-of-type {\n",
       "        vertical-align: middle;\n",
       "    }\n",
       "\n",
       "    .dataframe tbody tr th {\n",
       "        vertical-align: top;\n",
       "    }\n",
       "\n",
       "    .dataframe thead th {\n",
       "        text-align: right;\n",
       "    }\n",
       "</style>\n",
       "<table border=\"1\" class=\"dataframe\">\n",
       "  <thead>\n",
       "    <tr style=\"text-align: right;\">\n",
       "      <th></th>\n",
       "      <th>id</th>\n",
       "      <th>Age</th>\n",
       "      <th>DeliveryN</th>\n",
       "      <th>DeliveryT</th>\n",
       "      <th>Blood</th>\n",
       "      <th>Heart</th>\n",
       "      <th>Caesarian</th>\n",
       "    </tr>\n",
       "  </thead>\n",
       "  <tbody>\n",
       "    <tr>\n",
       "      <th>0</th>\n",
       "      <td>1</td>\n",
       "      <td>22</td>\n",
       "      <td>1</td>\n",
       "      <td>0</td>\n",
       "      <td>2</td>\n",
       "      <td>0</td>\n",
       "      <td>0</td>\n",
       "    </tr>\n",
       "    <tr>\n",
       "      <th>1</th>\n",
       "      <td>2</td>\n",
       "      <td>26</td>\n",
       "      <td>2</td>\n",
       "      <td>0</td>\n",
       "      <td>1</td>\n",
       "      <td>0</td>\n",
       "      <td>1</td>\n",
       "    </tr>\n",
       "    <tr>\n",
       "      <th>2</th>\n",
       "      <td>3</td>\n",
       "      <td>26</td>\n",
       "      <td>2</td>\n",
       "      <td>1</td>\n",
       "      <td>1</td>\n",
       "      <td>0</td>\n",
       "      <td>0</td>\n",
       "    </tr>\n",
       "    <tr>\n",
       "      <th>3</th>\n",
       "      <td>4</td>\n",
       "      <td>28</td>\n",
       "      <td>1</td>\n",
       "      <td>0</td>\n",
       "      <td>2</td>\n",
       "      <td>0</td>\n",
       "      <td>0</td>\n",
       "    </tr>\n",
       "    <tr>\n",
       "      <th>4</th>\n",
       "      <td>5</td>\n",
       "      <td>22</td>\n",
       "      <td>2</td>\n",
       "      <td>0</td>\n",
       "      <td>1</td>\n",
       "      <td>0</td>\n",
       "      <td>1</td>\n",
       "    </tr>\n",
       "  </tbody>\n",
       "</table>\n",
       "</div>"
      ],
      "text/plain": [
       "   id  Age  DeliveryN  DeliveryT  Blood  Heart  Caesarian\n",
       "0   1   22          1          0      2      0          0\n",
       "1   2   26          2          0      1      0          1\n",
       "2   3   26          2          1      1      0          0\n",
       "3   4   28          1          0      2      0          0\n",
       "4   5   22          2          0      1      0          1"
      ]
     },
     "execution_count": 20,
     "metadata": {},
     "output_type": "execute_result"
    }
   ],
   "source": [
    "dataset.head()"
   ]
  },
  {
   "cell_type": "code",
   "execution_count": 21,
   "metadata": {},
   "outputs": [
    {
     "data": {
      "text/html": [
       "<div>\n",
       "<style scoped>\n",
       "    .dataframe tbody tr th:only-of-type {\n",
       "        vertical-align: middle;\n",
       "    }\n",
       "\n",
       "    .dataframe tbody tr th {\n",
       "        vertical-align: top;\n",
       "    }\n",
       "\n",
       "    .dataframe thead th {\n",
       "        text-align: right;\n",
       "    }\n",
       "</style>\n",
       "<table border=\"1\" class=\"dataframe\">\n",
       "  <thead>\n",
       "    <tr style=\"text-align: right;\">\n",
       "      <th></th>\n",
       "      <th>id</th>\n",
       "      <th>Age</th>\n",
       "      <th>DeliveryN</th>\n",
       "      <th>DeliveryT</th>\n",
       "      <th>Blood</th>\n",
       "      <th>Heart</th>\n",
       "      <th>Caesarian</th>\n",
       "    </tr>\n",
       "  </thead>\n",
       "  <tbody>\n",
       "    <tr>\n",
       "      <th>count</th>\n",
       "      <td>80.0000</td>\n",
       "      <td>80.000000</td>\n",
       "      <td>80.000000</td>\n",
       "      <td>80.000000</td>\n",
       "      <td>80.000000</td>\n",
       "      <td>80.000000</td>\n",
       "      <td>80.000000</td>\n",
       "    </tr>\n",
       "    <tr>\n",
       "      <th>mean</th>\n",
       "      <td>40.5000</td>\n",
       "      <td>27.687500</td>\n",
       "      <td>1.662500</td>\n",
       "      <td>0.637500</td>\n",
       "      <td>1.000000</td>\n",
       "      <td>0.375000</td>\n",
       "      <td>0.575000</td>\n",
       "    </tr>\n",
       "    <tr>\n",
       "      <th>std</th>\n",
       "      <td>23.2379</td>\n",
       "      <td>5.017927</td>\n",
       "      <td>0.794662</td>\n",
       "      <td>0.815107</td>\n",
       "      <td>0.711568</td>\n",
       "      <td>0.487177</td>\n",
       "      <td>0.497462</td>\n",
       "    </tr>\n",
       "    <tr>\n",
       "      <th>min</th>\n",
       "      <td>1.0000</td>\n",
       "      <td>17.000000</td>\n",
       "      <td>1.000000</td>\n",
       "      <td>0.000000</td>\n",
       "      <td>0.000000</td>\n",
       "      <td>0.000000</td>\n",
       "      <td>0.000000</td>\n",
       "    </tr>\n",
       "    <tr>\n",
       "      <th>25%</th>\n",
       "      <td>20.7500</td>\n",
       "      <td>25.000000</td>\n",
       "      <td>1.000000</td>\n",
       "      <td>0.000000</td>\n",
       "      <td>0.750000</td>\n",
       "      <td>0.000000</td>\n",
       "      <td>0.000000</td>\n",
       "    </tr>\n",
       "    <tr>\n",
       "      <th>50%</th>\n",
       "      <td>40.5000</td>\n",
       "      <td>27.000000</td>\n",
       "      <td>1.000000</td>\n",
       "      <td>0.000000</td>\n",
       "      <td>1.000000</td>\n",
       "      <td>0.000000</td>\n",
       "      <td>1.000000</td>\n",
       "    </tr>\n",
       "    <tr>\n",
       "      <th>75%</th>\n",
       "      <td>60.2500</td>\n",
       "      <td>32.000000</td>\n",
       "      <td>2.000000</td>\n",
       "      <td>1.000000</td>\n",
       "      <td>1.250000</td>\n",
       "      <td>1.000000</td>\n",
       "      <td>1.000000</td>\n",
       "    </tr>\n",
       "    <tr>\n",
       "      <th>max</th>\n",
       "      <td>80.0000</td>\n",
       "      <td>40.000000</td>\n",
       "      <td>4.000000</td>\n",
       "      <td>2.000000</td>\n",
       "      <td>2.000000</td>\n",
       "      <td>1.000000</td>\n",
       "      <td>1.000000</td>\n",
       "    </tr>\n",
       "  </tbody>\n",
       "</table>\n",
       "</div>"
      ],
      "text/plain": [
       "            id        Age  DeliveryN  DeliveryT      Blood      Heart  \\\n",
       "count  80.0000  80.000000  80.000000  80.000000  80.000000  80.000000   \n",
       "mean   40.5000  27.687500   1.662500   0.637500   1.000000   0.375000   \n",
       "std    23.2379   5.017927   0.794662   0.815107   0.711568   0.487177   \n",
       "min     1.0000  17.000000   1.000000   0.000000   0.000000   0.000000   \n",
       "25%    20.7500  25.000000   1.000000   0.000000   0.750000   0.000000   \n",
       "50%    40.5000  27.000000   1.000000   0.000000   1.000000   0.000000   \n",
       "75%    60.2500  32.000000   2.000000   1.000000   1.250000   1.000000   \n",
       "max    80.0000  40.000000   4.000000   2.000000   2.000000   1.000000   \n",
       "\n",
       "       Caesarian  \n",
       "count  80.000000  \n",
       "mean    0.575000  \n",
       "std     0.497462  \n",
       "min     0.000000  \n",
       "25%     0.000000  \n",
       "50%     1.000000  \n",
       "75%     1.000000  \n",
       "max     1.000000  "
      ]
     },
     "execution_count": 21,
     "metadata": {},
     "output_type": "execute_result"
    }
   ],
   "source": [
    "dataset.describe()"
   ]
  },
  {
   "cell_type": "code",
   "execution_count": 49,
   "metadata": {},
   "outputs": [],
   "source": [
    "# fix random seed for reproducibility\n",
    "np.random.seed(7)"
   ]
  },
  {
   "cell_type": "code",
   "execution_count": 5,
   "metadata": {},
   "outputs": [
    {
     "ename": "NameError",
     "evalue": "name 'sns' is not defined",
     "output_type": "error",
     "traceback": [
      "\u001b[0;31m-------------------------------------------------------------------------\u001b[0m",
      "\u001b[0;31mNameError\u001b[0m                               Traceback (most recent call last)",
      "\u001b[0;32m<ipython-input-5-1241feebd991>\u001b[0m in \u001b[0;36m<module>\u001b[0;34m\u001b[0m\n\u001b[0;32m----> 1\u001b[0;31m \u001b[0msns\u001b[0m\u001b[0;34m.\u001b[0m\u001b[0mpairplot\u001b[0m\u001b[0;34m(\u001b[0m\u001b[0mdataset\u001b[0m\u001b[0;34m,\u001b[0m \u001b[0mhue\u001b[0m\u001b[0;34m=\u001b[0m\u001b[0;34m'Caesarian'\u001b[0m\u001b[0;34m)\u001b[0m\u001b[0;34m\u001b[0m\u001b[0;34m\u001b[0m\u001b[0m\n\u001b[0m",
      "\u001b[0;31mNameError\u001b[0m: name 'sns' is not defined"
     ]
    }
   ],
   "source": [
    "sns.pairplot(dataset, hue='Caesarian')"
   ]
  },
  {
   "cell_type": "code",
   "execution_count": 22,
   "metadata": {},
   "outputs": [],
   "source": [
    "# encode class values as integers\n",
    "enc_DeliveryN = pd.get_dummies(dataset['DeliveryN'], prefix='DeliveryN')\n",
    "enc_DeliveryT = pd.get_dummies(dataset['DeliveryN'], prefix='DeliveryT')\n",
    "enc_Blood = pd.get_dummies(dataset['Blood'], prefix='Blood')"
   ]
  },
  {
   "cell_type": "code",
   "execution_count": 23,
   "metadata": {},
   "outputs": [
    {
     "name": "stderr",
     "output_type": "stream",
     "text": [
      "/home/paurakh/miniconda3/envs/ml-class/lib/python3.6/site-packages/sklearn/preprocessing/data.py:334: DataConversionWarning: Data with input dtype int64 were all converted to float64 by MinMaxScaler.\n",
      "  return self.partial_fit(X, y)\n"
     ]
    }
   ],
   "source": [
    "# Normalize age\n",
    "from sklearn.preprocessing import MinMaxScaler\n",
    "scaler = MinMaxScaler()\n",
    "dataset['Age'] = scaler.fit_transform(dataset[['Age']])"
   ]
  },
  {
   "cell_type": "code",
   "execution_count": 24,
   "metadata": {},
   "outputs": [
    {
     "data": {
      "text/plain": [
       "0    0.217391\n",
       "1    0.391304\n",
       "2    0.391304\n",
       "3    0.478261\n",
       "4    0.217391\n",
       "Name: Age, dtype: float64"
      ]
     },
     "execution_count": 24,
     "metadata": {},
     "output_type": "execute_result"
    }
   ],
   "source": [
    "dataset['Age'].head()"
   ]
  },
  {
   "cell_type": "code",
   "execution_count": 28,
   "metadata": {},
   "outputs": [],
   "source": [
    "# create feature dataframe\n",
    "X = pd.concat([dataset['Age'], enc_DeliveryN, enc_DeliveryT, enc_Blood, dataset['Heart']], axis=1, sort=False)\n",
    "\n",
    "# create lable dataframe\n",
    "y = dataset['Caesarian']"
   ]
  },
  {
   "cell_type": "code",
   "execution_count": 26,
   "metadata": {},
   "outputs": [
    {
     "data": {
      "text/html": [
       "<div>\n",
       "<style scoped>\n",
       "    .dataframe tbody tr th:only-of-type {\n",
       "        vertical-align: middle;\n",
       "    }\n",
       "\n",
       "    .dataframe tbody tr th {\n",
       "        vertical-align: top;\n",
       "    }\n",
       "\n",
       "    .dataframe thead th {\n",
       "        text-align: right;\n",
       "    }\n",
       "</style>\n",
       "<table border=\"1\" class=\"dataframe\">\n",
       "  <thead>\n",
       "    <tr style=\"text-align: right;\">\n",
       "      <th></th>\n",
       "      <th>Age</th>\n",
       "      <th>DeliveryN_1</th>\n",
       "      <th>DeliveryN_2</th>\n",
       "      <th>DeliveryN_3</th>\n",
       "      <th>DeliveryN_4</th>\n",
       "      <th>DeliveryT_1</th>\n",
       "      <th>DeliveryT_2</th>\n",
       "      <th>DeliveryT_3</th>\n",
       "      <th>DeliveryT_4</th>\n",
       "      <th>Blood_0</th>\n",
       "      <th>Blood_1</th>\n",
       "      <th>Blood_2</th>\n",
       "      <th>Heart</th>\n",
       "    </tr>\n",
       "  </thead>\n",
       "  <tbody>\n",
       "    <tr>\n",
       "      <th>0</th>\n",
       "      <td>0.217391</td>\n",
       "      <td>1</td>\n",
       "      <td>0</td>\n",
       "      <td>0</td>\n",
       "      <td>0</td>\n",
       "      <td>1</td>\n",
       "      <td>0</td>\n",
       "      <td>0</td>\n",
       "      <td>0</td>\n",
       "      <td>0</td>\n",
       "      <td>0</td>\n",
       "      <td>1</td>\n",
       "      <td>0</td>\n",
       "    </tr>\n",
       "    <tr>\n",
       "      <th>1</th>\n",
       "      <td>0.391304</td>\n",
       "      <td>0</td>\n",
       "      <td>1</td>\n",
       "      <td>0</td>\n",
       "      <td>0</td>\n",
       "      <td>0</td>\n",
       "      <td>1</td>\n",
       "      <td>0</td>\n",
       "      <td>0</td>\n",
       "      <td>0</td>\n",
       "      <td>1</td>\n",
       "      <td>0</td>\n",
       "      <td>0</td>\n",
       "    </tr>\n",
       "    <tr>\n",
       "      <th>2</th>\n",
       "      <td>0.391304</td>\n",
       "      <td>0</td>\n",
       "      <td>1</td>\n",
       "      <td>0</td>\n",
       "      <td>0</td>\n",
       "      <td>0</td>\n",
       "      <td>1</td>\n",
       "      <td>0</td>\n",
       "      <td>0</td>\n",
       "      <td>0</td>\n",
       "      <td>1</td>\n",
       "      <td>0</td>\n",
       "      <td>0</td>\n",
       "    </tr>\n",
       "    <tr>\n",
       "      <th>3</th>\n",
       "      <td>0.478261</td>\n",
       "      <td>1</td>\n",
       "      <td>0</td>\n",
       "      <td>0</td>\n",
       "      <td>0</td>\n",
       "      <td>1</td>\n",
       "      <td>0</td>\n",
       "      <td>0</td>\n",
       "      <td>0</td>\n",
       "      <td>0</td>\n",
       "      <td>0</td>\n",
       "      <td>1</td>\n",
       "      <td>0</td>\n",
       "    </tr>\n",
       "    <tr>\n",
       "      <th>4</th>\n",
       "      <td>0.217391</td>\n",
       "      <td>0</td>\n",
       "      <td>1</td>\n",
       "      <td>0</td>\n",
       "      <td>0</td>\n",
       "      <td>0</td>\n",
       "      <td>1</td>\n",
       "      <td>0</td>\n",
       "      <td>0</td>\n",
       "      <td>0</td>\n",
       "      <td>1</td>\n",
       "      <td>0</td>\n",
       "      <td>0</td>\n",
       "    </tr>\n",
       "  </tbody>\n",
       "</table>\n",
       "</div>"
      ],
      "text/plain": [
       "        Age  DeliveryN_1  DeliveryN_2  DeliveryN_3  DeliveryN_4  DeliveryT_1  \\\n",
       "0  0.217391            1            0            0            0            1   \n",
       "1  0.391304            0            1            0            0            0   \n",
       "2  0.391304            0            1            0            0            0   \n",
       "3  0.478261            1            0            0            0            1   \n",
       "4  0.217391            0            1            0            0            0   \n",
       "\n",
       "   DeliveryT_2  DeliveryT_3  DeliveryT_4  Blood_0  Blood_1  Blood_2  Heart  \n",
       "0            0            0            0        0        0        1      0  \n",
       "1            1            0            0        0        1        0      0  \n",
       "2            1            0            0        0        1        0      0  \n",
       "3            0            0            0        0        0        1      0  \n",
       "4            1            0            0        0        1        0      0  "
      ]
     },
     "execution_count": 26,
     "metadata": {},
     "output_type": "execute_result"
    }
   ],
   "source": [
    "X.head()"
   ]
  },
  {
   "cell_type": "code",
   "execution_count": 27,
   "metadata": {},
   "outputs": [
    {
     "data": {
      "text/plain": [
       "0    0\n",
       "1    1\n",
       "2    0\n",
       "3    0\n",
       "4    1\n",
       "Name: Caesarian, dtype: int64"
      ]
     },
     "execution_count": 27,
     "metadata": {},
     "output_type": "execute_result"
    }
   ],
   "source": [
    "y.head()"
   ]
  },
  {
   "cell_type": "code",
   "execution_count": 30,
   "metadata": {},
   "outputs": [],
   "source": [
    "# split features and labels into train and test data\n",
    "from sklearn.model_selection import train_test_split\n",
    "X_train, X_test, y_train, y_test = train_test_split(X, y, test_size=0.3)"
   ]
  },
  {
   "cell_type": "code",
   "execution_count": 37,
   "metadata": {},
   "outputs": [
    {
     "name": "stdout",
     "output_type": "stream",
     "text": [
      "X_train shape:  (56, 13)\n",
      "y_train shape:  (56,)\n",
      "X_test shape:  (24, 13)\n",
      "y_test shape:  (24,)\n"
     ]
    }
   ],
   "source": [
    "print('X_train shape: ', X_train.shape)\n",
    "print('y_train shape: ', y_train.shape)\n",
    "print('X_test shape: ', X_test.shape)\n",
    "print('y_test shape: ', y_test.shape)"
   ]
  },
  {
   "cell_type": "code",
   "execution_count": 38,
   "metadata": {},
   "outputs": [
    {
     "name": "stderr",
     "output_type": "stream",
     "text": [
      "Using TensorFlow backend.\n"
     ]
    },
    {
     "name": "stdout",
     "output_type": "stream",
     "text": [
      "WARNING:tensorflow:From /home/paurakh/miniconda3/envs/ml-class/lib/python3.6/site-packages/tensorflow/python/framework/op_def_library.py:263: colocate_with (from tensorflow.python.framework.ops) is deprecated and will be removed in a future version.\n",
      "Instructions for updating:\n",
      "Colocations handled automatically by placer.\n"
     ]
    }
   ],
   "source": [
    "# Build keras model\n",
    "\n",
    "from keras import Sequential\n",
    "from keras.layers import Dense\n",
    "\n",
    "model = Sequential()\n",
    "#First Hidden Layer\n",
    "model.add(Dense(4, activation='relu', kernel_initializer='random_normal', input_dim=13))\n",
    "#Second  Hidden Layer\n",
    "model.add(Dense(4, activation='relu', kernel_initializer='random_normal'))\n",
    "#Output Layer\n",
    "model.add(Dense(1, activation='sigmoid', kernel_initializer='random_normal'))"
   ]
  },
  {
   "cell_type": "code",
   "execution_count": 40,
   "metadata": {},
   "outputs": [
    {
     "name": "stdout",
     "output_type": "stream",
     "text": [
      "_________________________________________________________________\n",
      "Layer (type)                 Output Shape              Param #   \n",
      "=================================================================\n",
      "dense_1 (Dense)              (None, 4)                 56        \n",
      "_________________________________________________________________\n",
      "dense_2 (Dense)              (None, 4)                 20        \n",
      "_________________________________________________________________\n",
      "dense_3 (Dense)              (None, 1)                 5         \n",
      "=================================================================\n",
      "Total params: 81\n",
      "Trainable params: 81\n",
      "Non-trainable params: 0\n",
      "_________________________________________________________________\n"
     ]
    }
   ],
   "source": [
    "model.summary()"
   ]
  },
  {
   "cell_type": "code",
   "execution_count": 41,
   "metadata": {},
   "outputs": [],
   "source": [
    "#compile the model\n",
    "model.compile(optimizer ='adam',loss='binary_crossentropy', metrics =['accuracy'])"
   ]
  },
  {
   "cell_type": "code",
   "execution_count": 43,
   "metadata": {},
   "outputs": [
    {
     "name": "stdout",
     "output_type": "stream",
     "text": [
      "WARNING:tensorflow:From /home/paurakh/miniconda3/envs/ml-class/lib/python3.6/site-packages/tensorflow/python/ops/math_ops.py:3066: to_int32 (from tensorflow.python.ops.math_ops) is deprecated and will be removed in a future version.\n",
      "Instructions for updating:\n",
      "Use tf.cast instead.\n",
      "Epoch 1/100\n",
      "56/56 [==============================] - 1s 26ms/step - loss: 0.6932 - acc: 0.4821\n",
      "Epoch 2/100\n",
      "56/56 [==============================] - 0s 200us/step - loss: 0.6929 - acc: 0.5536\n",
      "Epoch 3/100\n",
      "56/56 [==============================] - 0s 255us/step - loss: 0.6928 - acc: 0.5536\n",
      "Epoch 4/100\n",
      "56/56 [==============================] - 0s 266us/step - loss: 0.6927 - acc: 0.5536\n",
      "Epoch 5/100\n",
      "56/56 [==============================] - 0s 198us/step - loss: 0.6926 - acc: 0.5536\n",
      "Epoch 6/100\n",
      "56/56 [==============================] - 0s 185us/step - loss: 0.6924 - acc: 0.5536\n",
      "Epoch 7/100\n",
      "56/56 [==============================] - 0s 451us/step - loss: 0.6924 - acc: 0.5536\n",
      "Epoch 8/100\n",
      "56/56 [==============================] - 0s 240us/step - loss: 0.6922 - acc: 0.5536\n",
      "Epoch 9/100\n",
      "56/56 [==============================] - 0s 256us/step - loss: 0.6921 - acc: 0.5536\n",
      "Epoch 10/100\n",
      "56/56 [==============================] - 0s 256us/step - loss: 0.6921 - acc: 0.5536\n",
      "Epoch 11/100\n",
      "56/56 [==============================] - 0s 184us/step - loss: 0.6920 - acc: 0.5536\n",
      "Epoch 12/100\n",
      "56/56 [==============================] - 0s 197us/step - loss: 0.6919 - acc: 0.5536\n",
      "Epoch 13/100\n",
      "56/56 [==============================] - 0s 221us/step - loss: 0.6918 - acc: 0.5536\n",
      "Epoch 14/100\n",
      "56/56 [==============================] - 0s 239us/step - loss: 0.6917 - acc: 0.5536\n",
      "Epoch 15/100\n",
      "56/56 [==============================] - 0s 209us/step - loss: 0.6916 - acc: 0.5536\n",
      "Epoch 16/100\n",
      "56/56 [==============================] - 0s 216us/step - loss: 0.6915 - acc: 0.5536\n",
      "Epoch 17/100\n",
      "56/56 [==============================] - 0s 254us/step - loss: 0.6914 - acc: 0.5536\n",
      "Epoch 18/100\n",
      "56/56 [==============================] - 0s 247us/step - loss: 0.6913 - acc: 0.5536\n",
      "Epoch 19/100\n",
      "56/56 [==============================] - 0s 235us/step - loss: 0.6913 - acc: 0.5536\n",
      "Epoch 20/100\n",
      "56/56 [==============================] - 0s 231us/step - loss: 0.6912 - acc: 0.5536\n",
      "Epoch 21/100\n",
      "56/56 [==============================] - 0s 218us/step - loss: 0.6911 - acc: 0.5536\n",
      "Epoch 22/100\n",
      "56/56 [==============================] - 0s 168us/step - loss: 0.6910 - acc: 0.5536\n",
      "Epoch 23/100\n",
      "56/56 [==============================] - 0s 222us/step - loss: 0.6910 - acc: 0.5536\n",
      "Epoch 24/100\n",
      "56/56 [==============================] - 0s 200us/step - loss: 0.6909 - acc: 0.5536\n",
      "Epoch 25/100\n",
      "56/56 [==============================] - 0s 251us/step - loss: 0.6908 - acc: 0.5536\n",
      "Epoch 26/100\n",
      "56/56 [==============================] - 0s 252us/step - loss: 0.6906 - acc: 0.5536\n",
      "Epoch 27/100\n",
      "56/56 [==============================] - 0s 179us/step - loss: 0.6905 - acc: 0.5536\n",
      "Epoch 28/100\n",
      "56/56 [==============================] - 0s 265us/step - loss: 0.6903 - acc: 0.5536\n",
      "Epoch 29/100\n",
      "56/56 [==============================] - 0s 268us/step - loss: 0.6901 - acc: 0.5536\n",
      "Epoch 30/100\n",
      "56/56 [==============================] - 0s 201us/step - loss: 0.6899 - acc: 0.5536\n",
      "Epoch 31/100\n",
      "56/56 [==============================] - 0s 140us/step - loss: 0.6897 - acc: 0.5536\n",
      "Epoch 32/100\n",
      "56/56 [==============================] - 0s 229us/step - loss: 0.6895 - acc: 0.5536\n",
      "Epoch 33/100\n",
      "56/56 [==============================] - 0s 243us/step - loss: 0.6893 - acc: 0.5536\n",
      "Epoch 34/100\n",
      "56/56 [==============================] - 0s 151us/step - loss: 0.6891 - acc: 0.5536\n",
      "Epoch 35/100\n",
      "56/56 [==============================] - 0s 221us/step - loss: 0.6888 - acc: 0.5536\n",
      "Epoch 36/100\n",
      "56/56 [==============================] - 0s 267us/step - loss: 0.6885 - acc: 0.5536\n",
      "Epoch 37/100\n",
      "56/56 [==============================] - 0s 196us/step - loss: 0.6882 - acc: 0.5536\n",
      "Epoch 38/100\n",
      "56/56 [==============================] - 0s 368us/step - loss: 0.6880 - acc: 0.5536\n",
      "Epoch 39/100\n",
      "56/56 [==============================] - 0s 177us/step - loss: 0.6877 - acc: 0.5536\n",
      "Epoch 40/100\n",
      "56/56 [==============================] - 0s 267us/step - loss: 0.6873 - acc: 0.5536\n",
      "Epoch 41/100\n",
      "56/56 [==============================] - 0s 177us/step - loss: 0.6869 - acc: 0.5536\n",
      "Epoch 42/100\n",
      "56/56 [==============================] - 0s 294us/step - loss: 0.6865 - acc: 0.5536\n",
      "Epoch 43/100\n",
      "56/56 [==============================] - 0s 258us/step - loss: 0.6861 - acc: 0.5536\n",
      "Epoch 44/100\n",
      "56/56 [==============================] - 0s 274us/step - loss: 0.6855 - acc: 0.5536\n",
      "Epoch 45/100\n",
      "56/56 [==============================] - 0s 232us/step - loss: 0.6852 - acc: 0.5536\n",
      "Epoch 46/100\n",
      "56/56 [==============================] - 0s 194us/step - loss: 0.6845 - acc: 0.5893\n",
      "Epoch 47/100\n",
      "56/56 [==============================] - 0s 276us/step - loss: 0.6841 - acc: 0.6250\n",
      "Epoch 48/100\n",
      "56/56 [==============================] - 0s 169us/step - loss: 0.6838 - acc: 0.6429\n",
      "Epoch 49/100\n",
      "56/56 [==============================] - 0s 199us/step - loss: 0.6829 - acc: 0.6964\n",
      "Epoch 50/100\n",
      "56/56 [==============================] - 0s 157us/step - loss: 0.6825 - acc: 0.6964\n",
      "Epoch 51/100\n",
      "56/56 [==============================] - 0s 219us/step - loss: 0.6818 - acc: 0.6964\n",
      "Epoch 52/100\n",
      "56/56 [==============================] - 0s 166us/step - loss: 0.6811 - acc: 0.6964\n",
      "Epoch 53/100\n",
      "56/56 [==============================] - 0s 229us/step - loss: 0.6807 - acc: 0.6964\n",
      "Epoch 54/100\n",
      "56/56 [==============================] - 0s 190us/step - loss: 0.6798 - acc: 0.7143\n",
      "Epoch 55/100\n",
      "56/56 [==============================] - 0s 194us/step - loss: 0.6792 - acc: 0.7143\n",
      "Epoch 56/100\n",
      "56/56 [==============================] - 0s 236us/step - loss: 0.6785 - acc: 0.7143\n",
      "Epoch 57/100\n",
      "56/56 [==============================] - 0s 165us/step - loss: 0.6779 - acc: 0.6964\n",
      "Epoch 58/100\n",
      "56/56 [==============================] - 0s 151us/step - loss: 0.6772 - acc: 0.6964\n",
      "Epoch 59/100\n",
      "56/56 [==============================] - 0s 159us/step - loss: 0.6767 - acc: 0.6964\n",
      "Epoch 60/100\n",
      "56/56 [==============================] - 0s 246us/step - loss: 0.6756 - acc: 0.6964\n",
      "Epoch 61/100\n",
      "56/56 [==============================] - 0s 187us/step - loss: 0.6750 - acc: 0.6964\n",
      "Epoch 62/100\n",
      "56/56 [==============================] - 0s 245us/step - loss: 0.6741 - acc: 0.6964\n",
      "Epoch 63/100\n",
      "56/56 [==============================] - 0s 176us/step - loss: 0.6734 - acc: 0.6964\n",
      "Epoch 64/100\n",
      "56/56 [==============================] - 0s 221us/step - loss: 0.6727 - acc: 0.6964\n",
      "Epoch 65/100\n",
      "56/56 [==============================] - 0s 237us/step - loss: 0.6717 - acc: 0.6964\n",
      "Epoch 66/100\n",
      "56/56 [==============================] - 0s 215us/step - loss: 0.6711 - acc: 0.6964\n",
      "Epoch 67/100\n",
      "56/56 [==============================] - 0s 197us/step - loss: 0.6701 - acc: 0.6964\n",
      "Epoch 68/100\n",
      "56/56 [==============================] - 0s 180us/step - loss: 0.6692 - acc: 0.6964\n",
      "Epoch 69/100\n",
      "56/56 [==============================] - 0s 253us/step - loss: 0.6684 - acc: 0.6964\n",
      "Epoch 70/100\n",
      "56/56 [==============================] - 0s 206us/step - loss: 0.6677 - acc: 0.6964\n",
      "Epoch 71/100\n",
      "56/56 [==============================] - 0s 256us/step - loss: 0.6668 - acc: 0.6964\n",
      "Epoch 72/100\n",
      "56/56 [==============================] - 0s 335us/step - loss: 0.6660 - acc: 0.6964\n",
      "Epoch 73/100\n",
      "56/56 [==============================] - 0s 335us/step - loss: 0.6651 - acc: 0.6964\n",
      "Epoch 74/100\n",
      "56/56 [==============================] - 0s 190us/step - loss: 0.6643 - acc: 0.6964\n",
      "Epoch 75/100\n",
      "56/56 [==============================] - 0s 157us/step - loss: 0.6635 - acc: 0.6964\n",
      "Epoch 76/100\n",
      "56/56 [==============================] - 0s 155us/step - loss: 0.6628 - acc: 0.6964\n",
      "Epoch 77/100\n",
      "56/56 [==============================] - 0s 317us/step - loss: 0.6617 - acc: 0.6964\n",
      "Epoch 78/100\n",
      "56/56 [==============================] - 0s 235us/step - loss: 0.6611 - acc: 0.6964\n",
      "Epoch 79/100\n",
      "56/56 [==============================] - 0s 148us/step - loss: 0.6603 - acc: 0.6964\n",
      "Epoch 80/100\n",
      "56/56 [==============================] - 0s 279us/step - loss: 0.6594 - acc: 0.6964\n",
      "Epoch 81/100\n",
      "56/56 [==============================] - 0s 201us/step - loss: 0.6590 - acc: 0.6964\n",
      "Epoch 82/100\n",
      "56/56 [==============================] - 0s 238us/step - loss: 0.6579 - acc: 0.6964\n",
      "Epoch 83/100\n",
      "56/56 [==============================] - 0s 133us/step - loss: 0.6575 - acc: 0.6964\n",
      "Epoch 84/100\n",
      "56/56 [==============================] - 0s 333us/step - loss: 0.6563 - acc: 0.6964\n",
      "Epoch 85/100\n",
      "56/56 [==============================] - 0s 184us/step - loss: 0.6560 - acc: 0.6964\n",
      "Epoch 86/100\n",
      "56/56 [==============================] - 0s 314us/step - loss: 0.6550 - acc: 0.6964\n",
      "Epoch 87/100\n",
      "56/56 [==============================] - 0s 178us/step - loss: 0.6543 - acc: 0.6964\n",
      "Epoch 88/100\n",
      "56/56 [==============================] - 0s 158us/step - loss: 0.6536 - acc: 0.6964\n",
      "Epoch 89/100\n",
      "56/56 [==============================] - 0s 286us/step - loss: 0.6529 - acc: 0.6964\n",
      "Epoch 90/100\n",
      "56/56 [==============================] - 0s 260us/step - loss: 0.6522 - acc: 0.6964\n",
      "Epoch 91/100\n",
      "56/56 [==============================] - 0s 179us/step - loss: 0.6516 - acc: 0.6964\n",
      "Epoch 92/100\n",
      "56/56 [==============================] - 0s 178us/step - loss: 0.6510 - acc: 0.6964\n",
      "Epoch 93/100\n",
      "56/56 [==============================] - 0s 264us/step - loss: 0.6502 - acc: 0.6964\n",
      "Epoch 94/100\n",
      "56/56 [==============================] - 0s 148us/step - loss: 0.6496 - acc: 0.6964\n",
      "Epoch 95/100\n",
      "56/56 [==============================] - 0s 179us/step - loss: 0.6490 - acc: 0.6964\n",
      "Epoch 96/100\n",
      "56/56 [==============================] - 0s 221us/step - loss: 0.6484 - acc: 0.6964\n",
      "Epoch 97/100\n",
      "56/56 [==============================] - 0s 147us/step - loss: 0.6479 - acc: 0.6964\n",
      "Epoch 98/100\n",
      "56/56 [==============================] - 0s 137us/step - loss: 0.6471 - acc: 0.6964\n",
      "Epoch 99/100\n",
      "56/56 [==============================] - 0s 190us/step - loss: 0.6466 - acc: 0.6964\n",
      "Epoch 100/100\n",
      "56/56 [==============================] - 0s 164us/step - loss: 0.6461 - acc: 0.6964\n"
     ]
    },
    {
     "data": {
      "text/plain": [
       "<keras.callbacks.History at 0x7f54d9004748>"
      ]
     },
     "execution_count": 43,
     "metadata": {},
     "output_type": "execute_result"
    }
   ],
   "source": [
    "# fit the model\n",
    "model.fit(X_train,y_train, batch_size=10, epochs=100)"
   ]
  },
  {
   "cell_type": "code",
   "execution_count": 56,
   "metadata": {},
   "outputs": [
    {
     "name": "stdout",
     "output_type": "stream",
     "text": [
      "acc: 67.50%\n"
     ]
    }
   ],
   "source": [
    "# evaluate the model\n",
    "scores = model.evaluate(X, y, verbose=0)\n",
    "print(\"%s: %.2f%%\" % (model.metrics_names[1], scores[1]*100))"
   ]
  },
  {
   "cell_type": "code",
   "execution_count": 57,
   "metadata": {},
   "outputs": [
    {
     "name": "stdout",
     "output_type": "stream",
     "text": [
      "Saved model to disk\n"
     ]
    }
   ],
   "source": [
    "# save the model\n",
    "\n",
    "# serialize model to JSON\n",
    "model_json = model.to_json()\n",
    "with open(\"model.json\", \"w\") as json_file:\n",
    "    json_file.write(model_json)\n",
    "# serialize weights to HDF5\n",
    "model.save_weights(\"model.h5\")\n",
    "print(\"Saved model to disk\")"
   ]
  },
  {
   "cell_type": "code",
   "execution_count": 58,
   "metadata": {},
   "outputs": [
    {
     "name": "stdout",
     "output_type": "stream",
     "text": [
      "Loaded model from disk\n"
     ]
    }
   ],
   "source": [
    "from keras.models import model_from_json\n",
    "\n",
    "# load json and create model\n",
    "json_file = open('model.json', 'r')\n",
    "loaded_model_json = json_file.read()\n",
    "json_file.close()\n",
    "loaded_model = model_from_json(loaded_model_json)\n",
    "# load weights into new model\n",
    "loaded_model.load_weights(\"model.h5\")\n",
    "print(\"Loaded model from disk\")"
   ]
  },
  {
   "cell_type": "code",
   "execution_count": 59,
   "metadata": {},
   "outputs": [
    {
     "name": "stdout",
     "output_type": "stream",
     "text": [
      "acc: 67.50%\n"
     ]
    }
   ],
   "source": [
    "# evaluate loaded model on test data\n",
    "loaded_model.compile(loss='binary_crossentropy', optimizer='rmsprop', metrics=['accuracy'])\n",
    "score = loaded_model.evaluate(X, y, verbose=0)\n",
    "print(\"%s: %.2f%%\" % (loaded_model.metrics_names[1], score[1]*100))"
   ]
  },
  {
   "cell_type": "code",
   "execution_count": null,
   "metadata": {},
   "outputs": [],
   "source": []
  }
 ],
 "metadata": {
  "kernelspec": {
   "display_name": "Python 3",
   "language": "python",
   "name": "python3"
  },
  "language_info": {
   "codemirror_mode": {
    "name": "ipython",
    "version": 3
   },
   "file_extension": ".py",
   "mimetype": "text/x-python",
   "name": "python",
   "nbconvert_exporter": "python",
   "pygments_lexer": "ipython3",
   "version": "3.6.8"
  }
 },
 "nbformat": 4,
 "nbformat_minor": 2
}
